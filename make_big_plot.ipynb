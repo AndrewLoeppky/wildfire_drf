{
 "cells": [
  {
   "cell_type": "markdown",
   "id": "1b26f4d3",
   "metadata": {},
   "source": [
    "# Make Big Plot \n",
    "\n",
    "Code for combining all data to do with wildfire DRF effect"
   ]
  },
  {
   "cell_type": "code",
   "execution_count": 1,
   "id": "e7add688",
   "metadata": {},
   "outputs": [],
   "source": [
    "import numpy as np\n",
    "import pandas as pd\n",
    "import matplotlib\n",
    "from matplotlib import pyplot as plt\n",
    "from scipy.stats import chi2_contingency\n",
    "from scipy.stats import spearmanr\n",
    "\n",
    "# display all columns\n",
    "pd.options.display.max_columns = None\n",
    "pd.options.display.max_rows = 10000"
   ]
  },
  {
   "cell_type": "code",
   "execution_count": 2,
   "id": "64ec0623",
   "metadata": {},
   "outputs": [],
   "source": [
    "###############################################################\n",
    "####################### user inputs ###########################\n",
    "###############################################################\n",
    "\n",
    "# enter study start and end dates, formatted \"dd/mm/yyyy\"\n",
    "interval_start = \"01/01/2000\"\n",
    "interval_end = \"02/01/2020\"\n",
    "\n",
    "# two variables would you like to run a spearman correlation on\n",
    "var1 = \"RECO_PI\"\n",
    "var2 = \"AOD_500nm\"\n",
    "\n",
    "# variable with which to make boxplots sorted by smoke lvl\n",
    "boxvar = \"AOD_500nm\"\n",
    "\n",
    "###############################################################\n",
    "###############################################################"
   ]
  },
  {
   "cell_type": "code",
   "execution_count": 3,
   "id": "b67474b7",
   "metadata": {},
   "outputs": [],
   "source": [
    "# convert inputs to a pandas dataframe\n",
    "start = pd.to_datetime(interval_start, format=\"%d/%m/%Y\")\n",
    "end = pd.to_datetime(interval_end, format=\"%d/%m/%Y\")\n",
    "\n",
    "interval = pd.date_range(start, end, freq=\"1H\")\n",
    "interval_df = pd.DataFrame({\"datetime\":interval})"
   ]
  },
  {
   "cell_type": "code",
   "execution_count": 4,
   "id": "6d85bcb0",
   "metadata": {},
   "outputs": [],
   "source": [
    "# get the datasets\n",
    "path_to_data = \"C:/Users/Owner/Wildfire_Smoke_Mckendry/data/out_data/\"\n",
    "\n",
    "# csv format makes datetimes into strings. convert them back\n",
    "# to pandas Timestamp objects\n",
    "aeronet = pd.read_csv(path_to_data + \"aeronet_aod.csv\")\n",
    "aeronet[\"datetime\"] = pd.to_datetime(aeronet[\"datetime\"])\n",
    "\n",
    "hazmap = pd.read_csv(path_to_data + \"hazmap_waskesiu.csv\")\n",
    "hazmap[\"datetime\"] = pd.to_datetime(hazmap[\"datetime\"])\n",
    "\n",
    "fluxes = pd.read_csv(path_to_data + \"OBS_ameriflux.csv\")\n",
    "fluxes[\"datetime\"] = pd.to_datetime(fluxes[\"datetime\"])\n"
   ]
  },
  {
   "cell_type": "code",
   "execution_count": 5,
   "id": "1777a603",
   "metadata": {},
   "outputs": [],
   "source": [
    "# join all dataframes by date inside of spec interval\n",
    "full_dataset = interval_df.merge(aeronet, how=\"left\", on=\"datetime\")\n",
    "full_dataset = full_dataset.merge(hazmap, how=\"left\", on=\"datetime\")\n",
    "full_dataset = full_dataset.merge(fluxes, how=\"left\", on=\"datetime\")"
   ]
  },
  {
   "cell_type": "code",
   "execution_count": 6,
   "id": "4fce6852",
   "metadata": {},
   "outputs": [],
   "source": [
    "#full_dataset.to_csv(\"C:/Users/Owner/Wildfire_Smoke_Mckendry/data/out_data/drf_test.csv\")"
   ]
  },
  {
   "cell_type": "code",
   "execution_count": 7,
   "id": "e625745e",
   "metadata": {},
   "outputs": [],
   "source": [
    "def spearman_correlate(val1, val2):\n",
    "    \"\"\"\n",
    "    Calculates the spearman correlation between \n",
    "    two variables in the master dataset\n",
    "    \n",
    "    in: any pair of keys from\n",
    "    \n",
    "       'datetime', 'AOD_1640nm', 'AOD_1020nm', 'AOD_870nm', 'AOD_865nm',\n",
    "       'AOD_779nm', 'AOD_675nm', 'AOD_667nm', 'AOD_620nm', 'AOD_560nm',\n",
    "       'AOD_555nm', 'AOD_551nm', 'AOD_532nm', 'AOD_531nm', 'AOD_510nm',\n",
    "       'AOD_500nm', 'AOD_490nm', 'AOD_443nm', 'AOD_440nm', 'AOD_412nm',\n",
    "       'AOD_400nm', 'AOD_380nm', 'AOD_340nm', 'Precipitable_Water(cm)',\n",
    "       'AOD_681nm', 'AOD_709nm', 'Ozone(Dobson)', 'NO2(Dobson)', 'SMOKE',\n",
    "       'USTAR', 'TA', 'WD', 'WS', 'NEE_PI', 'FC', 'SC', 'H', 'SH', 'LE', 'SLE',\n",
    "       'G', 'TS_1', 'TS_2', 'P', 'RH', 'PA', 'CO2_1', 'CO2_2', 'VPD_PI',\n",
    "       'SWC_1', 'SWC_2', 'NETRAD', 'PPFD_IN', 'SW_IN', 'SW_DIF', 'PPFD_OUT',\n",
    "       'SW_OUT', 'LW_IN', 'LW_OUT', 'H2O', 'RECO_PI', 'APAR', 'PPFD_DIF',\n",
    "       'FAPAR', 'ZL']\n",
    "       \n",
    "    out: spearman correlation coefficient and P value from val1 and val2\n",
    "    \n",
    "    Spearman's correlation coefficient for ordinal data (smoke levels arent ratio data!)\n",
    "    https://towardsdatascience.com/discover-the-strength-of-monotonic-relation-850d11f72046\n",
    "    \"\"\"\n",
    "    cor, pval = spearmanr(full_dataset[val1], full_dataset[val2], nan_policy=\"omit\")\n",
    "\n",
    "    print(f\"Variables: {val1}, {val2}\\nCorrelation: {cor}  P-value: {pval}\")\n",
    "    # return cor, pval"
   ]
  },
  {
   "cell_type": "code",
   "execution_count": 9,
   "id": "b79b0481",
   "metadata": {
    "scrolled": false
   },
   "outputs": [
    {
     "ename": "KeyError",
     "evalue": "'SMOKE'",
     "output_type": "error",
     "traceback": [
      "\u001b[1;31m---------------------------------------------------------------------------\u001b[0m",
      "\u001b[1;31mKeyError\u001b[0m                                  Traceback (most recent call last)",
      "\u001b[1;32m~\\miniforge3\\envs\\drf2\\lib\\site-packages\\pandas\\core\\indexes\\base.py\u001b[0m in \u001b[0;36mget_loc\u001b[1;34m(self, key, method, tolerance)\u001b[0m\n\u001b[0;32m   3079\u001b[0m             \u001b[1;32mtry\u001b[0m\u001b[1;33m:\u001b[0m\u001b[1;33m\u001b[0m\u001b[1;33m\u001b[0m\u001b[0m\n\u001b[1;32m-> 3080\u001b[1;33m                 \u001b[1;32mreturn\u001b[0m \u001b[0mself\u001b[0m\u001b[1;33m.\u001b[0m\u001b[0m_engine\u001b[0m\u001b[1;33m.\u001b[0m\u001b[0mget_loc\u001b[0m\u001b[1;33m(\u001b[0m\u001b[0mcasted_key\u001b[0m\u001b[1;33m)\u001b[0m\u001b[1;33m\u001b[0m\u001b[1;33m\u001b[0m\u001b[0m\n\u001b[0m\u001b[0;32m   3081\u001b[0m             \u001b[1;32mexcept\u001b[0m \u001b[0mKeyError\u001b[0m \u001b[1;32mas\u001b[0m \u001b[0merr\u001b[0m\u001b[1;33m:\u001b[0m\u001b[1;33m\u001b[0m\u001b[1;33m\u001b[0m\u001b[0m\n",
      "\u001b[1;32mpandas\\_libs\\index.pyx\u001b[0m in \u001b[0;36mpandas._libs.index.IndexEngine.get_loc\u001b[1;34m()\u001b[0m\n",
      "\u001b[1;32mpandas\\_libs\\index.pyx\u001b[0m in \u001b[0;36mpandas._libs.index.IndexEngine.get_loc\u001b[1;34m()\u001b[0m\n",
      "\u001b[1;32mpandas\\_libs\\hashtable_class_helper.pxi\u001b[0m in \u001b[0;36mpandas._libs.hashtable.PyObjectHashTable.get_item\u001b[1;34m()\u001b[0m\n",
      "\u001b[1;32mpandas\\_libs\\hashtable_class_helper.pxi\u001b[0m in \u001b[0;36mpandas._libs.hashtable.PyObjectHashTable.get_item\u001b[1;34m()\u001b[0m\n",
      "\u001b[1;31mKeyError\u001b[0m: 'SMOKE'",
      "\nThe above exception was the direct cause of the following exception:\n",
      "\u001b[1;31mKeyError\u001b[0m                                  Traceback (most recent call last)",
      "\u001b[1;32m<ipython-input-9-8e05524fecbd>\u001b[0m in \u001b[0;36m<module>\u001b[1;34m\u001b[0m\n\u001b[0;32m      3\u001b[0m \u001b[1;33m\u001b[0m\u001b[0m\n\u001b[0;32m      4\u001b[0m \u001b[1;31m# hazmap\u001b[0m\u001b[1;33m\u001b[0m\u001b[1;33m\u001b[0m\u001b[1;33m\u001b[0m\u001b[0m\n\u001b[1;32m----> 5\u001b[1;33m \u001b[0mfull_dataset\u001b[0m\u001b[1;33m.\u001b[0m\u001b[0mplot\u001b[0m\u001b[1;33m(\u001b[0m\u001b[1;34m\"datetime\"\u001b[0m\u001b[1;33m,\u001b[0m \u001b[1;34m\"SMOKE\"\u001b[0m\u001b[1;33m,\u001b[0m \u001b[0max\u001b[0m\u001b[1;33m=\u001b[0m\u001b[0max1\u001b[0m\u001b[1;33m,\u001b[0m \u001b[0mcolor\u001b[0m\u001b[1;33m=\u001b[0m\u001b[1;34m\"grey\"\u001b[0m\u001b[1;33m,\u001b[0m \u001b[0mlegend\u001b[0m\u001b[1;33m=\u001b[0m\u001b[1;32mFalse\u001b[0m\u001b[1;33m)\u001b[0m\u001b[1;33m\u001b[0m\u001b[1;33m\u001b[0m\u001b[0m\n\u001b[0m\u001b[0;32m      6\u001b[0m \u001b[0mplt\u001b[0m\u001b[1;33m.\u001b[0m\u001b[0myticks\u001b[0m\u001b[1;33m(\u001b[0m\u001b[0mticks\u001b[0m\u001b[1;33m=\u001b[0m\u001b[1;33m[\u001b[0m\u001b[1;36m5\u001b[0m\u001b[1;33m,\u001b[0m\u001b[1;36m16\u001b[0m\u001b[1;33m,\u001b[0m\u001b[1;36m27\u001b[0m\u001b[1;33m]\u001b[0m\u001b[1;33m,\u001b[0m \u001b[0mlabels\u001b[0m\u001b[1;33m=\u001b[0m\u001b[1;33m[\u001b[0m\u001b[1;34m\"low\"\u001b[0m\u001b[1;33m,\u001b[0m \u001b[1;34m\"med\"\u001b[0m\u001b[1;33m,\u001b[0m \u001b[1;34m\"high\"\u001b[0m\u001b[1;33m]\u001b[0m\u001b[1;33m)\u001b[0m\u001b[1;33m\u001b[0m\u001b[1;33m\u001b[0m\u001b[0m\n\u001b[0;32m      7\u001b[0m \u001b[0max1\u001b[0m\u001b[1;33m.\u001b[0m\u001b[0mset_ylabel\u001b[0m\u001b[1;33m(\u001b[0m\u001b[1;34m\"Hazmap Smoke Level\"\u001b[0m\u001b[1;33m)\u001b[0m\u001b[1;33m\u001b[0m\u001b[1;33m\u001b[0m\u001b[0m\n",
      "\u001b[1;32m~\\miniforge3\\envs\\drf2\\lib\\site-packages\\pandas\\plotting\\_core.py\u001b[0m in \u001b[0;36m__call__\u001b[1;34m(self, *args, **kwargs)\u001b[0m\n\u001b[0;32m    939\u001b[0m \u001b[1;33m\u001b[0m\u001b[0m\n\u001b[0;32m    940\u001b[0m                 \u001b[1;31m# don't overwrite\u001b[0m\u001b[1;33m\u001b[0m\u001b[1;33m\u001b[0m\u001b[1;33m\u001b[0m\u001b[0m\n\u001b[1;32m--> 941\u001b[1;33m                 \u001b[0mdata\u001b[0m \u001b[1;33m=\u001b[0m \u001b[0mdata\u001b[0m\u001b[1;33m[\u001b[0m\u001b[0my\u001b[0m\u001b[1;33m]\u001b[0m\u001b[1;33m.\u001b[0m\u001b[0mcopy\u001b[0m\u001b[1;33m(\u001b[0m\u001b[1;33m)\u001b[0m\u001b[1;33m\u001b[0m\u001b[1;33m\u001b[0m\u001b[0m\n\u001b[0m\u001b[0;32m    942\u001b[0m \u001b[1;33m\u001b[0m\u001b[0m\n\u001b[0;32m    943\u001b[0m                 \u001b[1;32mif\u001b[0m \u001b[0misinstance\u001b[0m\u001b[1;33m(\u001b[0m\u001b[0mdata\u001b[0m\u001b[1;33m,\u001b[0m \u001b[0mABCSeries\u001b[0m\u001b[1;33m)\u001b[0m\u001b[1;33m:\u001b[0m\u001b[1;33m\u001b[0m\u001b[1;33m\u001b[0m\u001b[0m\n",
      "\u001b[1;32m~\\miniforge3\\envs\\drf2\\lib\\site-packages\\pandas\\core\\frame.py\u001b[0m in \u001b[0;36m__getitem__\u001b[1;34m(self, key)\u001b[0m\n\u001b[0;32m   3022\u001b[0m             \u001b[1;32mif\u001b[0m \u001b[0mself\u001b[0m\u001b[1;33m.\u001b[0m\u001b[0mcolumns\u001b[0m\u001b[1;33m.\u001b[0m\u001b[0mnlevels\u001b[0m \u001b[1;33m>\u001b[0m \u001b[1;36m1\u001b[0m\u001b[1;33m:\u001b[0m\u001b[1;33m\u001b[0m\u001b[1;33m\u001b[0m\u001b[0m\n\u001b[0;32m   3023\u001b[0m                 \u001b[1;32mreturn\u001b[0m \u001b[0mself\u001b[0m\u001b[1;33m.\u001b[0m\u001b[0m_getitem_multilevel\u001b[0m\u001b[1;33m(\u001b[0m\u001b[0mkey\u001b[0m\u001b[1;33m)\u001b[0m\u001b[1;33m\u001b[0m\u001b[1;33m\u001b[0m\u001b[0m\n\u001b[1;32m-> 3024\u001b[1;33m             \u001b[0mindexer\u001b[0m \u001b[1;33m=\u001b[0m \u001b[0mself\u001b[0m\u001b[1;33m.\u001b[0m\u001b[0mcolumns\u001b[0m\u001b[1;33m.\u001b[0m\u001b[0mget_loc\u001b[0m\u001b[1;33m(\u001b[0m\u001b[0mkey\u001b[0m\u001b[1;33m)\u001b[0m\u001b[1;33m\u001b[0m\u001b[1;33m\u001b[0m\u001b[0m\n\u001b[0m\u001b[0;32m   3025\u001b[0m             \u001b[1;32mif\u001b[0m \u001b[0mis_integer\u001b[0m\u001b[1;33m(\u001b[0m\u001b[0mindexer\u001b[0m\u001b[1;33m)\u001b[0m\u001b[1;33m:\u001b[0m\u001b[1;33m\u001b[0m\u001b[1;33m\u001b[0m\u001b[0m\n\u001b[0;32m   3026\u001b[0m                 \u001b[0mindexer\u001b[0m \u001b[1;33m=\u001b[0m \u001b[1;33m[\u001b[0m\u001b[0mindexer\u001b[0m\u001b[1;33m]\u001b[0m\u001b[1;33m\u001b[0m\u001b[1;33m\u001b[0m\u001b[0m\n",
      "\u001b[1;32m~\\miniforge3\\envs\\drf2\\lib\\site-packages\\pandas\\core\\indexes\\base.py\u001b[0m in \u001b[0;36mget_loc\u001b[1;34m(self, key, method, tolerance)\u001b[0m\n\u001b[0;32m   3080\u001b[0m                 \u001b[1;32mreturn\u001b[0m \u001b[0mself\u001b[0m\u001b[1;33m.\u001b[0m\u001b[0m_engine\u001b[0m\u001b[1;33m.\u001b[0m\u001b[0mget_loc\u001b[0m\u001b[1;33m(\u001b[0m\u001b[0mcasted_key\u001b[0m\u001b[1;33m)\u001b[0m\u001b[1;33m\u001b[0m\u001b[1;33m\u001b[0m\u001b[0m\n\u001b[0;32m   3081\u001b[0m             \u001b[1;32mexcept\u001b[0m \u001b[0mKeyError\u001b[0m \u001b[1;32mas\u001b[0m \u001b[0merr\u001b[0m\u001b[1;33m:\u001b[0m\u001b[1;33m\u001b[0m\u001b[1;33m\u001b[0m\u001b[0m\n\u001b[1;32m-> 3082\u001b[1;33m                 \u001b[1;32mraise\u001b[0m \u001b[0mKeyError\u001b[0m\u001b[1;33m(\u001b[0m\u001b[0mkey\u001b[0m\u001b[1;33m)\u001b[0m \u001b[1;32mfrom\u001b[0m \u001b[0merr\u001b[0m\u001b[1;33m\u001b[0m\u001b[1;33m\u001b[0m\u001b[0m\n\u001b[0m\u001b[0;32m   3083\u001b[0m \u001b[1;33m\u001b[0m\u001b[0m\n\u001b[0;32m   3084\u001b[0m         \u001b[1;32mif\u001b[0m \u001b[0mtolerance\u001b[0m \u001b[1;32mis\u001b[0m \u001b[1;32mnot\u001b[0m \u001b[1;32mNone\u001b[0m\u001b[1;33m:\u001b[0m\u001b[1;33m\u001b[0m\u001b[1;33m\u001b[0m\u001b[0m\n",
      "\u001b[1;31mKeyError\u001b[0m: 'SMOKE'"
     ]
    },
    {
     "data": {
      "image/png": "[encoded data removed]",
      "text/plain": [
       "<Figure size 1080x216 with 1 Axes>"
      ]
     },
     "metadata": {
      "needs_background": "light"
     },
     "output_type": "display_data"
    }
   ],
   "source": [
    "# plot the whole timeseries\n",
    "fig, ax1 = plt.subplots(figsize=(15,3))\n",
    "\n",
    "# hazmap\n",
    "full_dataset.plot(\"datetime\", \"SMOKE\", ax=ax1, color=\"grey\", legend=False)\n",
    "plt.yticks(ticks=[5,16,27], labels=[\"low\", \"med\", \"high\"])\n",
    "ax1.set_ylabel(\"Hazmap Smoke Level\")\n",
    "\n",
    "ax2 = ax1.twinx()\n",
    "full_dataset.plot(\"datetime\", \"AOD_500nm\", ax=ax2, color=\"orange\", alpha=0.7, legend=False)\n",
    "plt.yticks(color=\"orange\")\n",
    "ax2.set_ylabel(\"Aeronet AOD\", color=\"orange\")\n",
    "ax2.tick_params(axis=\"y\", color=\"orange\", pad=15)\n",
    "\n",
    "ax3 = ax1.twinx()\n",
    "full_dataset.plot(\"datetime\", \"RECO_PI\", ax=ax3, color=\"red\", alpha=0.7, legend=False)\n",
    "plt.yticks(color=\"red\")\n",
    "ax3.set_ylabel(\"Ameriflux RECO ($\\mu g CO_2/m^2/s$)\", color=\"red\", alpha=0.7, labelpad=32)\n",
    "ax3.tick_params(axis=\"y\", color=\"red\")\n",
    "\n",
    "fig.suptitle(\"Comparing AERONET AOD, Ameriflux and Wildfire HMS Smoke Data\")\n",
    "plt.figlegend(loc=(0.81,0.64))\n",
    "\n",
    "spearman_correlate(var1, var2)"
   ]
  },
  {
   "cell_type": "code",
   "execution_count": null,
   "id": "ac60e1d8",
   "metadata": {},
   "outputs": [],
   "source": [
    "# make boxplots of [variable] over smoke levels 0, 1, 2, 3\n",
    "\n",
    "# omit nan values and sort data by smoke level\n",
    "boxdata = full_dataset[np.isnan(full_dataset[boxvar]) == False]\n",
    "boxdata_zero = boxdata[boxdata[\"SMOKE\"] == 0]\n",
    "boxdata_low = boxdata[boxdata[\"SMOKE\"] == 5]\n",
    "boxdata_med = boxdata[boxdata[\"SMOKE\"] == 16]\n",
    "boxdata_high = boxdata[boxdata[\"SMOKE\"] == 27]\n",
    "\n",
    "# do the boxplot\n",
    "fig, ax = plt.subplots()\n",
    "bplot = ax.boxplot(\n",
    "    [\n",
    "        boxdata_zero[boxvar],\n",
    "        boxdata_low[boxvar],\n",
    "        boxdata_med[boxvar],\n",
    "        boxdata_high[boxvar],\n",
    "    ],\n",
    "    labels=[\"Clear\", \"Low\", \"Med\", \"High\"],\n",
    "    patch_artist=True,\n",
    "    boxprops={\"facecolor\": \"red\"},\n",
    "    sym=\"\",\n",
    "    showmeans=True,\n",
    "    meanprops={\"marker\":'x'}\n",
    ")\n",
    "\n",
    "# fill with colors\n",
    "colors = [\"lightblue\", \"lightsteelblue\", \"khaki\", \"goldenrod\"]\n",
    "for patch, color in zip(bplot[\"boxes\"], colors):\n",
    "    patch.set_facecolor(color)\n",
    "\n",
    "# do some labeling\n",
    "ax.set_title(f\"{boxvar} Grouped by Hazmap Smoke Level\\n {interval_start} - {interval_end}\")\n",
    "ax.set_xlabel(\"Smoke Level at Site\")\n",
    "ax.set_ylabel(boxvar);"
   ]
  },
  {
   "cell_type": "code",
   "execution_count": null,
   "id": "d6f8fa15",
   "metadata": {},
   "outputs": [],
   "source": []
  }
 ],
 "metadata": {
  "kernelspec": {
   "display_name": "Python 3",
   "language": "python",
   "name": "python3"
  },
  "language_info": {
   "codemirror_mode": {
    "name": "ipython",
    "version": 3
   },
   "file_extension": ".py",
   "mimetype": "text/x-python",
   "name": "python",
   "nbconvert_exporter": "python",
   "pygments_lexer": "ipython3",
   "version": "3.9.4"
  }
 },
 "nbformat": 4,
 "nbformat_minor": 5
}
