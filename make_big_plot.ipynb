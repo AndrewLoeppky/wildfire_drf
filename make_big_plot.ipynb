{
 "cells": [
  {
   "cell_type": "markdown",
   "id": "1b26f4d3",
   "metadata": {},
   "source": [
    "# Make Big Plot \n",
    "\n",
    "Code for combining all data to do with wildfire DRF effect"
   ]
  },
  {
   "cell_type": "code",
   "execution_count": 1,
   "id": "e7add688",
   "metadata": {},
   "outputs": [],
   "source": [
    "import numpy as np\n",
    "import pandas as pd\n",
    "from matplotlib import pyplot as plt"
   ]
  },
  {
   "cell_type": "code",
   "execution_count": 5,
   "id": "6d85bcb0",
   "metadata": {},
   "outputs": [],
   "source": [
    "# get the datasets\n",
    "path_to_data = \"C:/Users/Owner/Wildfire_Smoke_Mckendry/data/out_data/\"\n",
    "hazmap_ts = pd.read_csv(path_to_data + \"hazmap_wask.csv\")\n",
    "aeronet_ts = pd.read_csv(path_to_data + \"dataaeronet_aod.csv\")"
   ]
  },
  {
   "cell_type": "code",
   "execution_count": 8,
   "id": "999b73ec",
   "metadata": {},
   "outputs": [
    {
     "data": {
      "text/plain": [
       "[<matplotlib.lines.Line2D at 0x1f6f4771820>]"
      ]
     },
     "execution_count": 8,
     "metadata": {},
     "output_type": "execute_result"
    },
    {
     "data": {
      "image/png": "[encoded data removed]",
      "text/plain": [
       "<Figure size 1080x216 with 1 Axes>"
      ]
     },
     "metadata": {
      "needs_background": "light"
     },
     "output_type": "display_data"
    }
   ],
   "source": [
    "fig, ax = plt.subplots(figsize=(15,3))\n",
    "ax.plot(hazmap_ts[\"date\"], hazmap_ts[\"smoke\"])"
   ]
  }
 ],
 "metadata": {
  "kernelspec": {
   "display_name": "Python 3",
   "language": "python",
   "name": "python3"
  },
  "language_info": {
   "codemirror_mode": {
    "name": "ipython",
    "version": 3
   },
   "file_extension": ".py",
   "mimetype": "text/x-python",
   "name": "python",
   "nbconvert_exporter": "python",
   "pygments_lexer": "ipython3",
   "version": "3.9.4"
  }
 },
 "nbformat": 4,
 "nbformat_minor": 5
}
