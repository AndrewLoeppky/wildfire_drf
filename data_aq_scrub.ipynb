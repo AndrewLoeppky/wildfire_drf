{
 "cells": [
  {
   "cell_type": "markdown",
   "metadata": {},
   "source": [
    "# Effects of Wildfire Smoke on Forest Productivity in Central Canada.\n",
    "## Data Aquisition and Scrubbing - Function Library\n",
    "Program Author: Andrew Loeppky <br>\n",
    "Supervising Professor: Dr. Ian Mckendry <br>\n",
    "Date: May 2020\n"
   ]
  },
  {
   "cell_type": "code",
   "execution_count": 1,
   "metadata": {},
   "outputs": [
    {
     "output_type": "error",
     "ename": "ModuleNotFoundError",
     "evalue": "No module named 'numpy'",
     "traceback": [
      "\u001b[1;31m---------------------------------------------------------------------------\u001b[0m",
      "\u001b[1;31mModuleNotFoundError\u001b[0m                       Traceback (most recent call last)",
      "\u001b[1;32m<ipython-input-1-08f3a13a4185>\u001b[0m in \u001b[0;36m<module>\u001b[1;34m\u001b[0m\n\u001b[1;32m----> 1\u001b[1;33m \u001b[1;32mimport\u001b[0m \u001b[0mnumpy\u001b[0m \u001b[1;32mas\u001b[0m \u001b[0mnp\u001b[0m\u001b[1;33m\u001b[0m\u001b[1;33m\u001b[0m\u001b[0m\n\u001b[0m\u001b[0;32m      2\u001b[0m \u001b[1;32mfrom\u001b[0m \u001b[0mmatplotlib\u001b[0m \u001b[1;32mimport\u001b[0m \u001b[0mpyplot\u001b[0m \u001b[1;32mas\u001b[0m \u001b[0mplt\u001b[0m\u001b[1;33m\u001b[0m\u001b[1;33m\u001b[0m\u001b[0m\n\u001b[0;32m      3\u001b[0m \u001b[1;32mimport\u001b[0m \u001b[0mpandas\u001b[0m \u001b[1;32mas\u001b[0m \u001b[0mpd\u001b[0m\u001b[1;33m\u001b[0m\u001b[1;33m\u001b[0m\u001b[0m\n\u001b[0;32m      4\u001b[0m \u001b[1;32mimport\u001b[0m \u001b[0mscipy\u001b[0m\u001b[1;33m\u001b[0m\u001b[1;33m\u001b[0m\u001b[0m\n\u001b[0;32m      5\u001b[0m \u001b[1;32mimport\u001b[0m \u001b[0mdatetime\u001b[0m\u001b[1;33m\u001b[0m\u001b[1;33m\u001b[0m\u001b[0m\n",
      "\u001b[1;31mModuleNotFoundError\u001b[0m: No module named 'numpy'"
     ]
    }
   ],
   "source": [
    "import numpy as np\n",
    "from matplotlib import pyplot as plt\n",
    "import pandas as pd \n",
    "import scipy\n",
    "import datetime\n",
    "import time"
   ]
  },
  {
   "cell_type": "code",
   "execution_count": 2,
   "metadata": {},
   "outputs": [
    {
     "output_type": "error",
     "ename": "NameError",
     "evalue": "name 'pd' is not defined",
     "traceback": [
      "\u001b[1;31m---------------------------------------------------------------------------\u001b[0m",
      "\u001b[1;31mNameError\u001b[0m                                 Traceback (most recent call last)",
      "\u001b[1;32m<ipython-input-2-cde5264c9556>\u001b[0m in \u001b[0;36m<module>\u001b[1;34m\u001b[0m\n\u001b[0;32m      2\u001b[0m \u001b[1;33m\u001b[0m\u001b[0m\n\u001b[0;32m      3\u001b[0m \u001b[1;31m# test data (JFM in 2020)\u001b[0m\u001b[1;33m\u001b[0m\u001b[1;33m\u001b[0m\u001b[1;33m\u001b[0m\u001b[0m\n\u001b[1;32m----> 4\u001b[1;33m \u001b[0mwask_aod_test_10\u001b[0m \u001b[1;33m=\u001b[0m \u001b[0mpd\u001b[0m\u001b[1;33m.\u001b[0m\u001b[0mread_csv\u001b[0m\u001b[1;33m(\u001b[0m\u001b[1;34m'C:/Users/Owner/Wildfire_Smoke_Mckendry/code/Waskesiu_lev10.csv'\u001b[0m\u001b[1;33m,\u001b[0m \u001b[0mskiprows\u001b[0m\u001b[1;33m=\u001b[0m\u001b[1;36m6\u001b[0m\u001b[1;33m)\u001b[0m\u001b[1;33m\u001b[0m\u001b[1;33m\u001b[0m\u001b[0m\n\u001b[0m\u001b[0;32m      5\u001b[0m \u001b[0mwask_aod_test_15\u001b[0m \u001b[1;33m=\u001b[0m \u001b[0mpd\u001b[0m\u001b[1;33m.\u001b[0m\u001b[0mread_csv\u001b[0m\u001b[1;33m(\u001b[0m\u001b[1;34m'C:/Users/Owner/Wildfire_Smoke_Mckendry/code/Waskesiu_lev15.csv'\u001b[0m\u001b[1;33m,\u001b[0m \u001b[0mskiprows\u001b[0m\u001b[1;33m=\u001b[0m\u001b[1;36m6\u001b[0m\u001b[1;33m)\u001b[0m\u001b[1;33m\u001b[0m\u001b[1;33m\u001b[0m\u001b[0m\n\u001b[0;32m      6\u001b[0m '''\n",
      "\u001b[1;31mNameError\u001b[0m: name 'pd' is not defined"
     ]
    }
   ],
   "source": [
    "### read in data\n",
    "\n",
    "# test data (JFM in 2020)\n",
    "wask_aod_test_10 = pd.read_csv('C:/Users/Owner/Wildfire_Smoke_Mckendry/code/Waskesiu_lev10.csv', skiprows=6)\n",
    "wask_aod_test_15 = pd.read_csv('C:/Users/Owner/Wildfire_Smoke_Mckendry/code/Waskesiu_lev15.csv', skiprows=6)\n",
    "'''\n",
    "# full length sets (1993-2020)\n",
    "wask_aod_10 = pd.read_csv('C:/Users/Owner/Wildfire_Smoke_Mckendry/data/Waskesiu10.csv', skiprows=6)\n",
    "wask_aod_15 = pd.read_csv('C:/Users/Owner/Wildfire_Smoke_Mckendry/data/Waskesiu15.csv', skiprows=6)\n",
    "wask_aod_20 = pd.read_csv('C:/Users/Owner/Wildfire_Smoke_Mckendry/data/Waskesiu20.csv', skiprows=6)\n",
    "\n",
    "# total AOD, whatever that means\n",
    "wask_tot_10 = 0\n",
    "wask_tot_15 = 0\n",
    "wask_tot_20 = 0 \n",
    "\n",
    "'''\n",
    "# test longer dataset\n",
    "long_test = pd.read_csv('C:/Users/Owner/Wildfire_Smoke_Mckendry/data/Waskesiu_long_test10.csv', skiprows=6)\n",
    "\n"
   ]
  },
  {
   "cell_type": "code",
   "execution_count": 3,
   "metadata": {},
   "outputs": [],
   "source": [
    "\n",
    "### Get rid of -999.0 values\n",
    "def replace_999(dataset):\n",
    "    '''replaces default -999 with numpy NaN\n",
    "    '''\n",
    "    dataset.replace(-999.0,np.nan,inplace=True)\n"
   ]
  },
  {
   "cell_type": "code",
   "execution_count": 4,
   "metadata": {},
   "outputs": [],
   "source": [
    "### Drop empty columns\n",
    "def drop_empty(dataset):\n",
    "    '''if column name contains the string \"Empty\", drop it\n",
    "    '''\n",
    "    for index in dataset.columns:\n",
    "        if 'Empty' in index:\n",
    "            dataset.drop([index],axis=1,inplace=True) \n",
    "\n",
    "    return dataset\n",
    "    "
   ]
  },
  {
   "cell_type": "code",
   "execution_count": 5,
   "metadata": {},
   "outputs": [],
   "source": [
    "### Properly reformat date and time scipy datetime\n",
    "def reformat_datetime(dataset):\n",
    "    '''generates a datetime column for aeronet formatted raw data, drops old columns\n",
    "    '''\n",
    "    dataset['year'] = dataset['Date(dd:mm:yyyy)'].str[6:11]\n",
    "    dataset['month'] = dataset['Date(dd:mm:yyyy)'].str[3:5]\n",
    "    dataset['day'] = dataset['Date(dd:mm:yyyy)'].str[0:2]\n",
    "\n",
    "    dataset['hour'] = dataset['Time(hh:mm:ss)'].str[0:2]\n",
    "    dataset['minute'] = dataset['Time(hh:mm:ss)'].str[3:5]\n",
    "    dataset['second'] = dataset['Time(hh:mm:ss)'].str[6:8]\n",
    "\n",
    "    dataset['datetime'] = pd.to_datetime(dataset[['year','month','day','hour','minute','second']])\n",
    "    dataset.drop(['Date(dd:mm:yyyy)','Time(hh:mm:ss)','year','month','day','hour','minute','second'],axis=1,inplace=True)\n",
    "    \n",
    "    return dataset\n",
    "    "
   ]
  },
  {
   "cell_type": "code",
   "execution_count": 6,
   "metadata": {},
   "outputs": [],
   "source": [
    "### Call all the scrubbing routines \n",
    "def scrub_aeronet(dataset):\n",
    "    '''calls data cleaning functions and outputs a clean run of aeronet data ready for plotting\n",
    "    '''\n",
    "    replace_999(dataset)\n",
    "    dataset = drop_empty(dataset)\n",
    "    dataset = reformat_datetime(dataset)\n"
   ]
  },
  {
   "cell_type": "code",
   "execution_count": 7,
   "metadata": {},
   "outputs": [],
   "source": [
    "### Plotting function\n",
    "def plot_aod(dataset):\n",
    "    fig, ax = plt.subplots(1,1, figsize=(20,8))\n",
    "    \n",
    "    for index in dataset.columns:\n",
    "        if index[0:3] == 'AOD':\n",
    "            ax.scatter(dataset[\"datetime\"],dataset[index], label=index, alpha=0.5)\n",
    "    \n",
    "    ax.set_title(\"Test Time Series of AOD at All Available $\\lambda$\")\n",
    "    ax.set_xlabel(\"Date\")\n",
    "    ax.set_ylabel(\"AOD\")\n",
    "    ax.legend(loc='best')\n",
    "    \n",
    "    plt.savefig('AOD_timeseries.png',dpi=150)"
   ]
  },
  {
   "cell_type": "code",
   "execution_count": 8,
   "metadata": {},
   "outputs": [],
   "source": [
    "### timer decorator function from the internet\n",
    "def timeit(method):\n",
    "    '''\n",
    "    https://www.laurivan.com/braindump-use-a-decorator-to-time-your-python-function/\n",
    "    '''\n",
    "\n",
    "    def timed(*args, **kw):\n",
    "        ts = time.time()\n",
    "        result = method(*args, **kw)\n",
    "        te = time.time()\n",
    "        elapsed = te - ts\n",
    "\n",
    "        return result, elapsed\n",
    "\n",
    "    return timed\n",
    "    "
   ]
  },
  {
   "cell_type": "code",
   "execution_count": 9,
   "metadata": {},
   "outputs": [],
   "source": [
    "@timeit\n",
    "def main(dataset):\n",
    "    scrub_aeronet(dataset)\n",
    "    plot_aod(dataset)\n"
   ]
  },
  {
   "cell_type": "code",
   "execution_count": 10,
   "metadata": {},
   "outputs": [
    {
     "output_type": "error",
     "ename": "NameError",
     "evalue": "name 'long_test' is not defined",
     "traceback": [
      "\u001b[1;31m---------------------------------------------------------------------------\u001b[0m",
      "\u001b[1;31mNameError\u001b[0m                                 Traceback (most recent call last)",
      "\u001b[1;32m<ipython-input-10-8ca805268e06>\u001b[0m in \u001b[0;36m<module>\u001b[1;34m\u001b[0m\n\u001b[1;32m----> 1\u001b[1;33m \u001b[0mmain\u001b[0m\u001b[1;33m(\u001b[0m\u001b[0mlong_test\u001b[0m\u001b[1;33m)\u001b[0m\u001b[1;33m\u001b[0m\u001b[1;33m\u001b[0m\u001b[0m\n\u001b[0m",
      "\u001b[1;31mNameError\u001b[0m: name 'long_test' is not defined"
     ]
    }
   ],
   "source": [
    "main(long_test)"
   ]
  }
 ],
 "metadata": {
  "language_info": {
   "codemirror_mode": {
    "name": "ipython",
    "version": 3
   },
   "file_extension": ".py",
   "mimetype": "text/x-python",
   "name": "python",
   "nbconvert_exporter": "python",
   "pygments_lexer": "ipython3",
   "version": "3.7.3-final"
  },
  "orig_nbformat": 2,
  "kernelspec": {
   "name": "python37364bitconda3a0adc30e9ac45d9b473078e414eb815",
   "display_name": "Python 3.7.3 64-bit (conda)",
   "language": "python"
  }
 },
 "nbformat": 4,
 "nbformat_minor": 2
}