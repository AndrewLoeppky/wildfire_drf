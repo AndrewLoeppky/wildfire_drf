{
 "cells": [
  {
   "cell_type": "markdown",
   "metadata": {},
   "source": [
    "# Effects of Wildfire Smoke on Forest Productivity in Central Canada.\n",
    "## Data Aquisition and Scrubbing\n",
    "Program Author: Andrew Loeppky <br>\n",
    "Supervising Professor: Dr. Ian Mckendry <br>\n",
    "Date: May 2020\n"
   ]
  },
  {
   "cell_type": "code",
   "execution_count": 1,
   "metadata": {},
   "outputs": [],
   "source": [
    "import numpy as np\n",
    "from matplotlib import pyplot as plt\n",
    "import pandas as pd \n",
    "import scipy\n",
    "import datetime"
   ]
  },
  {
   "cell_type": "code",
   "execution_count": 2,
   "metadata": {},
   "outputs": [],
   "source": [
    "### read in data\n",
    "\n",
    "# test data (JFM in 2020)\n",
    "wask_aod_test_10 = pd.read_csv('C:/Users/Owner/Wildfire_Smoke_Mckendry/code/Waskesiu_lev10.csv', skiprows=6)\n",
    "wask_aod_test_15 = pd.read_csv('C:/Users/Owner/Wildfire_Smoke_Mckendry/code/Waskesiu_lev15.csv', skiprows=6)\n",
    "\n",
    "# full length sets (1993-2020)\n",
    "#wask_aod_10 = pd.read_csv('C:/Users/Owner/Wildfire_Smoke_Mckendry/data/Waskesiu10.csv', skiprows=6)\n",
    "#wask_aod_15 = pd.read_csv('C:/Users/Owner/Wildfire_Smoke_Mckendry/data/Waskesiu15.csv', skiprows=6)\n",
    "#wask_aod_20 = pd.read_csv('C:/Users/Owner/Wildfire_Smoke_Mckendry/data/Waskesiu20.csv', skiprows=6)\n",
    "\n",
    "# total AOD, whatever that means\n",
    "#wask_tot_10 = 0\n",
    "#wask_tot_15 = 0\n",
    "#wask_tot_20 = 0 "
   ]
  },
  {
   "cell_type": "code",
   "execution_count": 3,
   "metadata": {},
   "outputs": [],
   "source": [
    "\n",
    "### Get rid of -999.0 values\n",
    "def replace_999(dataset):\n",
    "    '''replaces default -999 with numpy NaN\n",
    "    '''\n",
    "    dataset.replace(-999.0,np.nan,inplace=True)\n"
   ]
  },
  {
   "cell_type": "code",
   "execution_count": 4,
   "metadata": {},
   "outputs": [],
   "source": [
    "### Drop empty columns\n",
    "def drop_empty(dataset):\n",
    "    '''if column name contains the string \"Empty\", drop it\n",
    "    '''\n",
    "    for index in dataset.columns:\n",
    "        if 'Empty' in index:\n",
    "            dataset.drop([index],axis=1,inplace=True) \n",
    "\n",
    "    return dataset"
   ]
  },
  {
   "cell_type": "code",
   "execution_count": 5,
   "metadata": {},
   "outputs": [],
   "source": [
    "### Properly reformat date and time scipy datetime\n",
    "def reformat_datetime(dataset):\n",
    "    '''generates a datetime column for aeronet formatted raw data, drops old columns\n",
    "    '''\n",
    "    dataset['year'] = dataset['Date(dd:mm:yyyy)'].str[6:11]\n",
    "    dataset['month'] = dataset['Date(dd:mm:yyyy)'].str[3:5]\n",
    "    dataset['day'] = dataset['Date(dd:mm:yyyy)'].str[0:2]\n",
    "\n",
    "    dataset['hour'] = dataset['Time(hh:mm:ss)'].str[0:2]\n",
    "    dataset['minute'] = dataset['Time(hh:mm:ss)'].str[3:5]\n",
    "    dataset['second'] = dataset['Time(hh:mm:ss)'].str[6:8]\n",
    "\n",
    "    dataset['datetime'] = pd.to_datetime(dataset[['year','month','day','hour','minute','second']])\n",
    "    dataset.drop(['Date(dd:mm:yyyy)','Time(hh:mm:ss)','year','month','day','hour','minute','second'],axis=1,inplace=True)\n",
    "    \n",
    "    return dataset\n",
    "\n"
   ]
  },
  {
   "cell_type": "code",
   "execution_count": 6,
   "metadata": {},
   "outputs": [],
   "source": [
    "### Call all the scrubbing routines \n",
    "def scrub_aeronet(dataset):\n",
    "    '''calls data cleaning functions and outputs a clean run of aeronet data ready for plotting\n",
    "    '''\n",
    "    replace_999(dataset)\n",
    "    dataset = drop_empty(dataset)\n",
    "    dataset = reformat_datetime(dataset)\n",
    "\n",
    "\n"
   ]
  },
  {
   "cell_type": "code",
   "execution_count": 7,
   "metadata": {},
   "outputs": [],
   "source": [
    "### Plotting function\n",
    "def plot_aod(dataset):\n",
    "    fig, ax = plt.subplots(1,1, figsize=(20,8))\n",
    "    \n",
    "    for index in dataset.columns:\n",
    "        if index[0:3] == 'AOD':\n",
    "            ax.scatter(dataset[\"datetime\"],dataset[index], label=index)\n",
    "    \n",
    "    ax.set_title(\"Test Time Series of AOD at All Available $\\lambda$\")\n",
    "    ax.set_xlabel(\"Date\")\n",
    "    ax.set_ylabel(\"AOD\")\n",
    "    ax.legend(loc='best')\n",
    "    \n",
    "    plt.savefig('filename.png',dpi=150)"
   ]
  },
  {
   "cell_type": "code",
   "execution_count": 8,
   "metadata": {},
   "outputs": [],
   "source": [
    "scrub_aeronet(wask_aod_10)\n",
    "plot_aod(wask_aod_10)"
   ]
  }
 ],
 "metadata": {
  "language_info": {
   "codemirror_mode": {
    "name": "ipython",
    "version": 3
   },
   "file_extension": ".py",
   "mimetype": "text/x-python",
   "name": "python",
   "nbconvert_exporter": "python",
   "pygments_lexer": "ipython3",
   "version": "3.7.3-final"
  },
  "orig_nbformat": 2,
  "kernelspec": {
   "name": "python37364bitconda3a0adc30e9ac45d9b473078e414eb815",
   "display_name": "Python 3.7.3 64-bit (conda)"
  }
 },
 "nbformat": 4,
 "nbformat_minor": 2
}